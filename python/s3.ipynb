{
 "cells": [
  {
   "cell_type": "code",
   "execution_count": 321,
   "metadata": {},
   "outputs": [],
   "source": [
    "import boto3\n",
    "import botocore\n",
    "import os\n",
    "from datetime import datetime"
   ]
  },
  {
   "cell_type": "code",
   "execution_count": 385,
   "metadata": {},
   "outputs": [],
   "source": [
    "def make_dir(dirname):\n",
    "    if not os.path.exists(dirname):\n",
    "        os.makedirs(dirname)\n",
    "        \n",
    "def getEssentials():\n",
    "    keysdatafile = 'awskeys.txt'\n",
    "    bucketname = 'uab-dropbox'\n",
    "\n",
    "    # Go to ShareBox folder in user Documents Directory\n",
    "    documentspath = os.path.join(os.path.expanduser('~'),\"Documents\\\\\")    \n",
    "    boxpath = os.path.join(documentspath,\"ShareBox\\\\\")  \n",
    "    # Create one if it does not exist\n",
    "    make_dir(boxpath)\n",
    "    \n",
    "    return keysdatafile,bucketname,boxpath\n",
    "\n",
    "def ReadCredentials(datafile):\n",
    "    \n",
    "    keyID=secretID=sessionToken=''\n",
    "    \n",
    "    with open(datafile) as f:\n",
    "        i = 0\n",
    "        for line in f:\n",
    "            line = line.split(\"=\") \n",
    "            if line:\n",
    "                if i == 0: # aws_access_key_id\n",
    "                    keyID = line[1].rstrip('\\n')\n",
    "                if i == 1: # aws_secret_access_key\n",
    "                    secretID= line[1].rstrip('\\n')      \n",
    "                if i == 2: # aws_session_token\n",
    "                    sessionToken = line[1].rstrip('\\n')    \n",
    "                i += 1\n",
    "\n",
    "    return keyID,secretID,sessionToken\n",
    "\n",
    "def listLocalDir(dirPath,boxPath,my_lst):\n",
    "    entities = os.listdir(dirPath) # File or Folder\n",
    "    for entity in entities:\n",
    "        fullpath = os.path.abspath(os.path.join(dirPath,entity))\n",
    "        isFile = os.path.isfile(fullpath)\n",
    "        if isFile == False:\n",
    "            listDir(fullpath,boxpath,my_lst)\n",
    "        else:\n",
    "            EntityPath = fullpath.replace(boxpath,'').replace(entity,'')\n",
    "            if len(EntityPath) !=0:\n",
    "                if EntityPath[-1] =='\\\\':\n",
    "                    EntityPath = EntityPath[:-1]\n",
    "            EntityPath = EntityPath.replace('\\\\','/')       \n",
    "            my_dict = {'File':entity,'SubDir':EntityPath}\n",
    "            my_lst.append(my_dict)\n",
    "    return my_lst\n",
    "\n",
    "def listFiles(keysdatafile,bucketname):\n",
    "    documentspath = os.path.join(os.path.expanduser('~'),\"Documents\\\\\")    \n",
    "    boxpath = os.path.join(documentspath,\"ShareBox\\\\\")  \n",
    "    filelist =[]\n",
    "    \n",
    "    keyID,secretID,sessionToken = ReadCredentials(keysdatafile)\n",
    "    resource = boto3.resource('s3',\n",
    "                              aws_access_key_id = keyID,\n",
    "                              aws_secret_access_key = secretID)\n",
    "\n",
    "    bucket_of_interest = resource.Bucket(bucketname)\n",
    "   \n",
    "    for item in bucket_of_interest.objects.all():\n",
    "        filelist.append(parseKey(item.key,item.last_modified))\n",
    "        #print((datetime.strptime(str(item.last_modified), '%Y-%m-%d %H:%M:%S+00:00')))\n",
    "    return filelist   \n",
    "\n",
    "def parseKey(keyitem,lastmodified):\n",
    "    tmp = keyitem.split('/')\n",
    "    file = tmp[len(tmp) - 1]\n",
    "    filename = file.split('\\\\')[len(file.split('\\\\'))-1]\n",
    "    subdir = '/'.join(tmp)\n",
    "    subdir = subdir.replace('/' + file,'')\n",
    "    file_subDir_dict = {'File':file,'Filename':filename,'SubDir':subdir,'Key':keyitem,'Lastmodified':lastmodified}\n",
    "    return file_subDir_dict\n",
    "\n",
    "def deleteFileinS3(client,filebucket,file,dirname):\n",
    "    delete_file_bucket = str(filebucket)\n",
    "    delete_file_key = str(dirname) + '/' + str(file)\n",
    "    response = client.delete_object(Bucket = delete_file_bucket,Key = delete_file_key)\n",
    "    return response\n",
    "\n",
    "def deleteAllFiles(keysdatafile,bucketname,delete_lst):\n",
    "    keyID,secretID,sessionToken = ReadCredentials(keysdatafile)\n",
    "    client = boto3.client('s3', aws_access_key_id = keyID, aws_secret_access_key = secretID)\n",
    "    for item in delete_lst:\n",
    "        #print('File:',item['File'],'SubDir:',item['SubDir'])\n",
    "        response = deleteFileinS3(client,bucketname,item['File'],item['SubDir'])\n",
    "        \n",
    "def uploadtoS3(client,filebucket,file,dirname):\n",
    "    try:\n",
    "        upload_file_bucket = filebucket\n",
    "        upload_file_key = str(dirname) + '/' + str(file)\n",
    "        client.upload_file(file,upload_file_bucket,upload_file_key)\n",
    "    except botocore.exceptions.ClientError as e:\n",
    "        if e.response['Error']['Code'] == \"404\":\n",
    "            print(\"The object does not exist.\")\n",
    "        else:\n",
    "            raise\n",
    "            \n",
    "def uploadAllFiles(keysdatafile,bucketname,upload_lst):\n",
    "    keyID,secretID,sessionToken = ReadCredentials(keysdatafile)\n",
    "    client = boto3.client('s3', aws_access_key_id = keyID, aws_secret_access_key = secretID)\n",
    "    for item in upload_lst:\n",
    "        filepath = os.path.abspath(os.path.join(boxpath,item['SubDir']))\n",
    "        file = os.path.abspath(os.path.join(filepath,item['File']))\n",
    "        uploadtoS3(client,bucketname,file,item['SubDir'])\n",
    "        \n",
    "        \n",
    "def downloadAllFiles(keysdatafile,bucketname,download_lst,boxpath):\n",
    "    #boxpath = 'C:\\\\Users\\\\sumanth.bail\\\\Documents\\\\Test\\\\' # ---> Test for downloading to different location i.e different machine\n",
    "    keyID,secretID,sessionToken = ReadCredentials(keysdatafile)\n",
    "    client = boto3.client('s3', aws_access_key_id = keyID, aws_secret_access_key = secretID)\n",
    "    for item in download_lst:\n",
    "        download_file_key = item['Key'] \n",
    "        #download_file_name = item['File']\n",
    "        download_file_name = os.path.abspath(os.path.join(boxpath,item['SubDir']))\n",
    "        make_dir(download_file_name)\n",
    "        download_file_name = os.path.abspath(os.path.join(download_file_name,item['Filename']))\n",
    "        #print(download_file_name)\n",
    "        client.download_file(bucketname,download_file_key,download_file_name)\n",
    "\n",
    "def downloadModifiedFilesSinceLastRun(keysdatafile,bucketname,download_lst,boxpath,LastRun_utc):\n",
    "    keyID,secretID,sessionToken = ReadCredentials(keysdatafile)\n",
    "    client = boto3.client('s3', aws_access_key_id = keyID, aws_secret_access_key = secretID)\n",
    "    for item in download_lst:\n",
    "        download_file_key = item['Key'] \n",
    "        download_file_name = os.path.abspath(os.path.join(boxpath,item['SubDir']))\n",
    "        make_dir(download_file_name)\n",
    "        download_file_name = os.path.abspath(os.path.join(download_file_name,item['Filename']))\n",
    "        if (datetime.strptime(str(item['Lastmodified']), '%Y-%m-%d %H:%M:%S+00:00') > LastRun_utc) or os.path.exists(download_file_name) == False:\n",
    "            print('Successful File Download: ',download_file_name)\n",
    "            client.download_file(bucketname,download_file_key,download_file_name)\n",
    "        else:\n",
    "            print(download_file_name,' No file change in S3. File exists locally. Download skipped!')\n",
    "       "
   ]
  },
  {
   "cell_type": "markdown",
   "metadata": {},
   "source": [
    "#### List Files in S3 (With Delete ALL if needed)"
   ]
  },
  {
   "cell_type": "code",
   "execution_count": 372,
   "metadata": {},
   "outputs": [
    {
     "name": "stdout",
     "output_type": "stream",
     "text": [
      "# of items in S3:  11 Last Run 2020-07-05 15:23:31.829955\n",
      "Delete switch turned off!\n"
     ]
    }
   ],
   "source": [
    "keysdatafile,bucketname,boxpath = getEssentials()\n",
    "s3_file_dir_lst = listFiles(keysdatafile,bucketname)\n",
    "\n",
    "print('# of items in S3: ', len(s3_file_dir_lst), 'Last Run',LastRun_utc)\n",
    "\n",
    "isDelete = False\n",
    "if isDelete == True:\n",
    "    deleteAllFiles(keysdatafile,bucketname,s3_file_dir_lst)\n",
    "else:\n",
    "    print('Delete switch turned off!')\n",
    "\n",
    "#print(s3_file_dir_lst)\n",
    "   "
   ]
  },
  {
   "cell_type": "markdown",
   "metadata": {},
   "source": [
    "#### List local Files and Upload to S3"
   ]
  },
  {
   "cell_type": "code",
   "execution_count": 360,
   "metadata": {},
   "outputs": [],
   "source": [
    "keysdatafile,bucketname,boxpath = getEssentials()\n",
    "\n",
    "# Get list of Files and the folders they reside under from ShareBox\n",
    "local_lst = []\n",
    "local_lst = listLocalDir(boxpath,boxpath,local_lst)\n",
    "\n",
    "isUpload = True\n",
    "if isUpload == True:\n",
    "    uploadAllFiles(keysdatafile,bucketname,local_lst)\n",
    "else:\n",
    "    print('Upload switch turned off!')"
   ]
  },
  {
   "cell_type": "markdown",
   "metadata": {},
   "source": [
    "#### Get List S3 Files and Download to local Sharebox (Calls for: Only those modified since last run or All)"
   ]
  },
  {
   "cell_type": "code",
   "execution_count": 384,
   "metadata": {},
   "outputs": [
    {
     "name": "stdout",
     "output_type": "stream",
     "text": [
      "C:\\Users\\sumanth.bail\\Documents\\ShareBox\\Nationwide.txt  No file change in S3. File exists locally. Download skipped!\n",
      "C:\\Users\\sumanth.bail\\Documents\\ShareBox\\Statewide.txt  No file change in S3. File exists locally. Download skipped!\n",
      "C:\\Users\\sumanth.bail\\Documents\\ShareBox\\Zipcode.txt  No file change in S3. File exists locally. Download skipped!\n",
      "C:\\Users\\sumanth.bail\\Documents\\ShareBox\\LocPictures\\Pictures\\Archive\\dog.jpg  No file change in S3. File exists locally. Download skipped!\n",
      "C:\\Users\\sumanth.bail\\Documents\\ShareBox\\LocPictures\\Pictures\\Archive\\icon96.png  No file change in S3. File exists locally. Download skipped!\n",
      "C:\\Users\\sumanth.bail\\Documents\\ShareBox\\LocPictures\\Pictures\\Archive\\indoor.jpg  No file change in S3. File exists locally. Download skipped!\n",
      "C:\\Users\\sumanth.bail\\Documents\\ShareBox\\LocPictures\\Pictures\\building.jpg  No file change in S3. File exists locally. Download skipped!\n",
      "C:\\Users\\sumanth.bail\\Documents\\ShareBox\\LocPictures\\Pictures\\coast.jpg  No file change in S3. File exists locally. Download skipped!\n",
      "C:\\Users\\sumanth.bail\\Documents\\ShareBox\\LocPictures\\Pictures\\nightcity.jpg  No file change in S3. File exists locally. Download skipped!\n",
      "C:\\Users\\sumanth.bail\\Documents\\ShareBox\\LocPictures\\Pictures\\path.jpg  No file change in S3. File exists locally. Download skipped!\n",
      "C:\\Users\\sumanth.bail\\Documents\\ShareBox\\LocPictures\\Pictures\\trees.jpg  No file change in S3. File exists locally. Download skipped!\n"
     ]
    }
   ],
   "source": [
    "keysdatafile,bucketname,boxpath = getEssentials()\n",
    "\n",
    "s3_file_dir_lst = listFiles(keysdatafile,bucketname)\n",
    "\n",
    "#print(s3_file_dir_lst)\n",
    "isDownload = True\n",
    "if isDownload == True:\n",
    "    downloadModifiedFilesSinceLastRun(keysdatafile,bucketname,s3_file_dir_lst,boxpath,LastRun_utc)\n",
    "    LastRun_utc = datetime.utcnow()\n",
    "else:\n",
    "    print('Download flag is turned off!')"
   ]
  },
  {
   "cell_type": "code",
   "execution_count": null,
   "metadata": {},
   "outputs": [],
   "source": []
  }
 ],
 "metadata": {
  "kernelspec": {
   "display_name": "Python 3",
   "language": "python",
   "name": "python3"
  },
  "language_info": {
   "codemirror_mode": {
    "name": "ipython",
    "version": 3
   },
   "file_extension": ".py",
   "mimetype": "text/x-python",
   "name": "python",
   "nbconvert_exporter": "python",
   "pygments_lexer": "ipython3",
   "version": "3.7.6"
  }
 },
 "nbformat": 4,
 "nbformat_minor": 4
}
