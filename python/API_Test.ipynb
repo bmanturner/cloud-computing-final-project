{
 "cells": [
  {
   "cell_type": "markdown",
   "metadata": {},
   "source": [
    "Endpoints:\n",
    "\n",
    "- `POST: /api/users/register`  \n",
    "body: username, password (min 5 characters), email  \n",
    "returns: user record (w/ apiKey)\n",
    "\n",
    "- `POST: /api/users/login`  \n",
    "username, password  ('demouser', 'demopassword')\n",
    "returns: user record (w/ apiKey)\n",
    "\n",
    "'http://3.226.149.4/api/status'\n"
   ]
  },
  {
   "cell_type": "code",
   "execution_count": 113,
   "metadata": {},
   "outputs": [],
   "source": [
    "import requests\n",
    "import json\n",
    "\n",
    "ec2 = 'http://3.226.149.4'"
   ]
  },
  {
   "cell_type": "code",
   "execution_count": 200,
   "metadata": {},
   "outputs": [],
   "source": [
    "def statusCheck(ec2):\n",
    "    site = ec2 + '/api/status'\n",
    "    return response.status_code\n",
    "\n",
    "def registerUser(ec2,username,password,email):\n",
    "    errMsg = ''\n",
    "    site = ec2 + '/api/users/register'\n",
    "    args = {'username':username,'password':password ,'email':email }\n",
    "    response = requests.post(url=site, data = args)\n",
    "    \n",
    "    if response.status_code == 200:\n",
    "        try:\n",
    "            obj = json.dumps(response.json())\n",
    "            error_dict = json.loads(obj) \n",
    "            if 'errors' in error_dict:\n",
    "                errMsg = 'Request failed: ' + error_dict['errors'][0]['message']\n",
    "        except:\n",
    "            errMsg ='Request failed!'\n",
    "    else:\n",
    "        errMsg ='Request failed!' + str(response.status_code)\n",
    "    return response.status_code,errMsg\n",
    "\n",
    "def loginUser(ec2,username,password):\n",
    "    errMsg = ''\n",
    "    site = ec2 + '/api/users/login'\n",
    "    args = {'username':username,'password':password }\n",
    "    response = requests.post(url=site, data = args)\n",
    "    \n",
    "    if response.status_code == 200:\n",
    "        try:\n",
    "            \n",
    "            obj = json.dumps(response.json())\n",
    "            error_dict = json.loads(obj) \n",
    "            if 'errors' in error_dict:\n",
    "                errMsg = 'Request failed: ' + error_dict['errors'][0]['message']\n",
    "        except:\n",
    "            errMsg ='Request failed!'\n",
    "    else:\n",
    "        errMsg ='Request failed!' + str(response.status_code)\n",
    "    return response.status_code,errMsg"
   ]
  },
  {
   "cell_type": "code",
   "execution_count": 201,
   "metadata": {},
   "outputs": [
    {
     "name": "stdout",
     "output_type": "stream",
     "text": [
      "Request failed: email must be unique\n"
     ]
    }
   ],
   "source": [
    "username = 'demouser1'\n",
    "password = 'demopassword'\n",
    "email = 'sbail@uab.edu'\n",
    "code,msg = registerUser(ec2,username,password,email)\n",
    "if code==200 and msg=='':\n",
    "    print('Request Successful!')\n",
    "else:\n",
    "    print(msg)"
   ]
  },
  {
   "cell_type": "code",
   "execution_count": 159,
   "metadata": {},
   "outputs": [
    {
     "name": "stdout",
     "output_type": "stream",
     "text": [
      "Request Successful!\n"
     ]
    }
   ],
   "source": [
    "username = 'demouser'\n",
    "password = 'demopassword'\n",
    "code,msg = loginUser(ec2,username,password)\n",
    "if code==200 and msg=='':\n",
    "    print('Request Successful!')\n",
    "else:\n",
    "    print(msg)"
   ]
  },
  {
   "cell_type": "code",
   "execution_count": null,
   "metadata": {},
   "outputs": [],
   "source": []
  }
 ],
 "metadata": {
  "kernelspec": {
   "display_name": "Python 3",
   "language": "python",
   "name": "python3"
  },
  "language_info": {
   "codemirror_mode": {
    "name": "ipython",
    "version": 3
   },
   "file_extension": ".py",
   "mimetype": "text/x-python",
   "name": "python",
   "nbconvert_exporter": "python",
   "pygments_lexer": "ipython3",
   "version": "3.7.6"
  }
 },
 "nbformat": 4,
 "nbformat_minor": 4
}
