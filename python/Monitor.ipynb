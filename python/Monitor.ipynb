{
 "cells": [
  {
   "cell_type": "markdown",
   "metadata": {},
   "source": [
    "#### Objective: \n",
    "Monitor a folder (User/Documents/ShareBox) \n",
    "Activities monitored: New, Modify, Delete - Folders and Documents\n",
    "\n",
    "Sync with S3 - See s3.ipynb"
   ]
  },
  {
   "cell_type": "markdown",
   "metadata": {},
   "source": [
    "#### Install Module watchdog if not already done"
   ]
  },
  {
   "cell_type": "code",
   "execution_count": 36,
   "metadata": {},
   "outputs": [],
   "source": [
    "#!pip install watchdog"
   ]
  },
  {
   "cell_type": "markdown",
   "metadata": {},
   "source": [
    "#### Imports"
   ]
  },
  {
   "cell_type": "code",
   "execution_count": 37,
   "metadata": {},
   "outputs": [],
   "source": [
    "import os\n",
    "import sys\n",
    "import time\n",
    "from watchdog.observers import Observer\n",
    "from watchdog.events import LoggingEventHandler,PatternMatchingEventHandler"
   ]
  },
  {
   "cell_type": "markdown",
   "metadata": {},
   "source": [
    "#### Functions"
   ]
  },
  {
   "cell_type": "code",
   "execution_count": 38,
   "metadata": {},
   "outputs": [],
   "source": [
    "def make_dir(dirname):\n",
    "    if not os.path.exists(dirname):\n",
    "        os.makedirs(dirname)\n",
    "        \n",
    "def on_created(event):\n",
    "    print(f\"Created {event.src_path}!\")\n",
    "    # Sync on demand code\n",
    "\n",
    "def on_deleted(event):\n",
    "    print(f\"Deleted {event.src_path}!\")\n",
    "    # Sync on demand code\n",
    "\n",
    "def on_modified(event):\n",
    "    print(f\"Modified {event.src_path}!\")\n",
    "    print(\"Sync with S3: Upload and replace in storage\")\n",
    "    # Sync on demand code\n",
    "\n",
    "def on_moved(event):\n",
    "    print(f\"Moved (Renamed) {event.src_path} to {event.dest_path}\")\n",
    "    # Sync on demand code\n",
    "    \n",
    "# On Login: Sync on demand\n",
    "\n",
    "def watchit(path):\n",
    "\n",
    "    event_handler = PatternMatchingEventHandler(\"*\", \"\", False, True)\n",
    "    \n",
    "    event_handler.on_created = on_created\n",
    "    event_handler.on_deleted = on_deleted\n",
    "    event_handler.on_modified = on_modified\n",
    "    event_handler.on_moved = on_moved   \n",
    "    \n",
    "    observer = Observer()\n",
    "    observer.schedule(event_handler, path, recursive=True)\n",
    "    \n",
    "    observer.start()\n",
    "    try:\n",
    "        while True:\n",
    "            time.sleep(1)\n",
    "    except KeyboardInterrupt:\n",
    "        observer.stop()\n",
    "        observer.join()    "
   ]
  },
  {
   "cell_type": "markdown",
   "metadata": {},
   "source": [
    "#### Create a ShareBox Folder under users Documents Directory"
   ]
  },
  {
   "cell_type": "code",
   "execution_count": 39,
   "metadata": {},
   "outputs": [],
   "source": [
    "documentspath = os.path.join(os.path.expanduser('~'),\"Documents\\\\\")    \n",
    "boxpath = os.path.join(documentspath,\"ShareBox\\\\\")  \n",
    "make_dir(boxpath)"
   ]
  },
  {
   "cell_type": "markdown",
   "metadata": {},
   "source": [
    "#### Monitor \"ShareBox\" New, Modified or Delete actions"
   ]
  },
  {
   "cell_type": "code",
   "execution_count": null,
   "metadata": {},
   "outputs": [],
   "source": [
    "watchit(boxpath)"
   ]
  }
 ],
 "metadata": {
  "kernelspec": {
   "display_name": "Python 3",
   "language": "python",
   "name": "python3"
  },
  "language_info": {
   "codemirror_mode": {
    "name": "ipython",
    "version": 3
   },
   "file_extension": ".py",
   "mimetype": "text/x-python",
   "name": "python",
   "nbconvert_exporter": "python",
   "pygments_lexer": "ipython3",
   "version": "3.7.6"
  }
 },
 "nbformat": 4,
 "nbformat_minor": 4
}
